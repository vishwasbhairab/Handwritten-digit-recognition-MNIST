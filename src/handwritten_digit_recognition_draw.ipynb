{
 "cells": [
  {
   "cell_type": "code",
   "execution_count": 8,
   "id": "1afd7f98-1343-4d1d-a432-79e821233163",
   "metadata": {},
   "outputs": [],
   "source": [
    "import cv2\n",
    "import numpy as np\n",
    "import tensorflow as tf\n",
    "import tkinter as tk\n",
    "from tkinter import Canvas\n",
    "from PIL import Image, ImageDraw"
   ]
  },
  {
   "cell_type": "code",
   "execution_count": 10,
   "id": "f9740705-1e97-435d-b124-28e38f673624",
   "metadata": {},
   "outputs": [
    {
     "name": "stderr",
     "output_type": "stream",
     "text": [
      "C:\\Users\\Vishwas Pandey\\anaconda3\\Lib\\site-packages\\keras\\src\\saving\\saving_lib.py:757: UserWarning: Skipping variable loading for optimizer 'rmsprop', because it has 18 variables whereas the saved optimizer has 34 variables. \n",
      "  saveable.load_own_variables(weights_store.get(inner_path))\n"
     ]
    }
   ],
   "source": [
    "# Load the trained CNN model\n",
    "model = tf.keras.models.load_model(\"mnist_cnn.keras\")"
   ]
  },
  {
   "cell_type": "code",
   "execution_count": 11,
   "id": "812fd99c-3e60-4ccb-b330-5d618d6cd311",
   "metadata": {},
   "outputs": [
    {
     "name": "stdout",
     "output_type": "stream",
     "text": [
      "\u001b[1m1/1\u001b[0m \u001b[32m━━━━━━━━━━━━━━━━━━━━\u001b[0m\u001b[37m\u001b[0m \u001b[1m0s\u001b[0m 141ms/step\n"
     ]
    }
   ],
   "source": [
    "# Initialize Tkinter window\n",
    "window = tk.Tk()\n",
    "window.title(\"Handwritten Digit Recognition\")\n",
    "\n",
    "# Create a canvas to draw digits\n",
    "canvas_width = 300\n",
    "canvas_height = 300\n",
    "canvas = Canvas(window, width=canvas_width, height=canvas_height, bg=\"black\")\n",
    "canvas.pack()\n",
    "\n",
    "# Create a PIL Image to store the drawing\n",
    "image = Image.new(\"L\", (canvas_width, canvas_height), color=0)\n",
    "draw = ImageDraw.Draw(image)\n",
    "\n",
    "# Function to draw on canvas\n",
    "def draw_digit(event):\n",
    "    x, y = event.x, event.y\n",
    "    radius = 10  # Thickness of stroke\n",
    "    canvas.create_oval(x - radius, y - radius, x + radius, y + radius, fill=\"white\", outline=\"white\")\n",
    "    draw.ellipse([x - radius, y - radius, x + radius, y + radius], fill=\"white\")\n",
    "\n",
    "# Function to preprocess image & predict digit\n",
    "def predict_digit():\n",
    "    # Resize image to 28x28 (same as MNIST input size)\n",
    "    img_resized = image.resize((28, 28))\n",
    "    img_array = np.array(img_resized)\n",
    "\n",
    "    # Normalize pixel values\n",
    "    img_array = img_array.astype(\"float32\") / 255.0\n",
    "\n",
    "    # Reshape for model input (28x28x1)\n",
    "    img_array = np.expand_dims(img_array, axis=0)\n",
    "    img_array = np.expand_dims(img_array, axis=-1)\n",
    "\n",
    "    # Predict the digit & get confidence\n",
    "    prediction = model.predict(img_array)\n",
    "    predicted_digit = np.argmax(prediction)\n",
    "    confidence = np.max(prediction) * 100  # Convert to percentage\n",
    "    \n",
    "    # Display prediction with confidence\n",
    "    result_label.config(text=f\"Digit: {predicted_digit} ({confidence:.2f}%)\")\n",
    "    \n",
    "    # Highlight if confidence is low (< 60%)\n",
    "    if confidence < 60:\n",
    "        result_label.config(fg=\"red\")  # Red for low confidence\n",
    "    else:\n",
    "        result_label.config(fg=\"green\")  # Green for high confidence\n",
    "\n",
    "# Function to clear canvas\n",
    "def clear_canvas():\n",
    "    canvas.delete(\"all\")\n",
    "    draw.rectangle([0, 0, canvas_width, canvas_height], fill=\"black\")\n",
    "    result_label.config(text=\"Draw a digit & click 'Predict'\", fg=\"black\")  # Reset text color\n",
    "\n",
    "# Bind mouse events to draw function\n",
    "canvas.bind(\"<B1-Motion>\", draw_digit)\n",
    "\n",
    "# Buttons for predicting and clearing\n",
    "button_frame = tk.Frame(window)\n",
    "button_frame.pack()\n",
    "\n",
    "predict_button = tk.Button(button_frame, text=\"Predict\", command=predict_digit)\n",
    "predict_button.pack(side=tk.LEFT, padx=10, pady=10)\n",
    "\n",
    "clear_button = tk.Button(button_frame, text=\"Clear\", command=clear_canvas)\n",
    "clear_button.pack(side=tk.RIGHT, padx=10, pady=10)\n",
    "\n",
    "# Label to display prediction result\n",
    "result_label = tk.Label(window, text=\"Draw a digit & click 'Predict'\", font=(\"Arial\", 14))\n",
    "result_label.pack()\n",
    "\n",
    "# Run the Tkinter GUI loop\n",
    "window.mainloop()"
   ]
  },
  {
   "cell_type": "code",
   "execution_count": null,
   "id": "ec4ae226-2ecc-49bc-bb7e-45a7b25aa987",
   "metadata": {},
   "outputs": [],
   "source": []
  }
 ],
 "metadata": {
  "kernelspec": {
   "display_name": "Python 3 (ipykernel)",
   "language": "python",
   "name": "python3"
  },
  "language_info": {
   "codemirror_mode": {
    "name": "ipython",
    "version": 3
   },
   "file_extension": ".py",
   "mimetype": "text/x-python",
   "name": "python",
   "nbconvert_exporter": "python",
   "pygments_lexer": "ipython3",
   "version": "3.12.7"
  }
 },
 "nbformat": 4,
 "nbformat_minor": 5
}
